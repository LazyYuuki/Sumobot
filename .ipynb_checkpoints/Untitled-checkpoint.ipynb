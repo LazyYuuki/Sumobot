{
 "cells": [
  {
   "cell_type": "code",
   "execution_count": 54,
   "metadata": {},
   "outputs": [],
   "source": [
    "import turtle\n",
    "turtle.clearscreen()\n",
    "turtle.pu()\n",
    "turtle.setpos(-400,0)\n",
    "turtle.right(90)\n",
    "turtle.pd()\n",
    "turtle.circle(400)\n",
    "\n",
    "win = turtle.Screen()"
   ]
  },
  {
   "cell_type": "code",
   "execution_count": 55,
   "metadata": {},
   "outputs": [],
   "source": [
    "#sumobot will be the ai trying to escape\n",
    "sumobot = turtle.Turtle()\n",
    "sumobot.shape('square')\n",
    "sumobot.speed(0)\n",
    "sumobot.color('blue')\n",
    "sumobot.pu()\n",
    "sumobot.goto(0,-350)\n",
    "sumobot.shapesize(stretch_wid=2, stretch_len=2)  "
   ]
  },
  {
   "cell_type": "code",
   "execution_count": 56,
   "metadata": {},
   "outputs": [],
   "source": [
    "#the red will be the enemy moving like a pong ball\n",
    "enemy = turtle.Turtle()\n",
    "enemy.shape('square')\n",
    "enemy.speed(0)\n",
    "enemy.color('red')\n",
    "enemy.pu()\n",
    "enemy.goto(0,0)\n",
    "enemy.shapesize(stretch_wid=4, stretch_len=4)"
   ]
  },
  {
   "cell_type": "code",
   "execution_count": null,
   "metadata": {},
   "outputs": [
    {
     "name": "stderr",
     "output_type": "stream",
     "text": [
      "Exception in Tkinter callback\n",
      "Traceback (most recent call last):\n",
      "  File \"/Users/thebird/anaconda3/lib/python3.8/tkinter/__init__.py\", line 1883, in __call__\n",
      "    return self.func(*args)\n",
      "  File \"/Users/thebird/anaconda3/lib/python3.8/turtle.py\", line 686, in eventfun\n",
      "    fun()\n",
      "  File \"<ipython-input-57-b18a4524b905>\", line 7, in paddle_left\n",
      "    x = paddle.xcor()        # Get the x position of paddle\n",
      "NameError: name 'paddle' is not defined\n"
     ]
    }
   ],
   "source": [
    "def paddle_right():\n",
    "    x = enemy.xcor()        # Get the x position of paddle\n",
    "    if x < 225:\n",
    "        enemy.setx(x+20)    # increment the x position by 20\n",
    "\n",
    "def paddle_left():\n",
    "    x = enemy.xcor()        # Get the x position of paddle\n",
    "    if x > -225:\n",
    "        enemy.setx(x-20)    # decrement the x position by 20\n",
    "\n",
    "# Keyboard Control\n",
    "win.onkey(paddle_right, 'Right')   # call paddle_right on right arrow key\n",
    "win.onkey(paddle_left, 'Left')     # call paddle_left on right arrow key\n",
    "win.listen()\n",
    "win.mainloop()\n"
   ]
  },
  {
   "cell_type": "code",
   "execution_count": null,
   "metadata": {},
   "outputs": [],
   "source": []
  }
 ],
 "metadata": {
  "kernelspec": {
   "display_name": "Python 3",
   "language": "python",
   "name": "python3"
  },
  "language_info": {
   "codemirror_mode": {
    "name": "ipython",
    "version": 3
   },
   "file_extension": ".py",
   "mimetype": "text/x-python",
   "name": "python",
   "nbconvert_exporter": "python",
   "pygments_lexer": "ipython3",
   "version": "3.8.3"
  }
 },
 "nbformat": 4,
 "nbformat_minor": 4
}
