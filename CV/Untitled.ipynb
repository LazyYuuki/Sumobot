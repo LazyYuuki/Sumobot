{
 "cells": [
  {
   "cell_type": "code",
   "execution_count": 76,
   "metadata": {},
   "outputs": [],
   "source": [
    "import turtle\n",
    "turtle.clearscreen()\n",
    "turtle.pu()\n",
    "turtle.setpos(-400,0)\n",
    "turtle.right(90)\n",
    "turtle.pd()\n",
    "turtle.circle(400)\n",
    "\n",
    "win = turtle.Screen()"
   ]
  },
  {
   "cell_type": "code",
   "execution_count": 77,
   "metadata": {},
   "outputs": [],
   "source": [
    "#sumobot will be the ai trying to escape\n",
    "sumobot = turtle.Turtle()\n",
    "sumobot.shape('square')\n",
    "sumobot.speed(0)\n",
    "sumobot.color('blue')\n",
    "sumobot.pu()\n",
    "sumobot.goto(0,-380)\n",
    "sumobot.shapesize(stretch_wid=2, stretch_len=2)  "
   ]
  },
  {
   "cell_type": "code",
   "execution_count": 78,
   "metadata": {},
   "outputs": [],
   "source": [
    "#the red will be the enemy moving like a pong ball\n",
    "enemy = turtle.Turtle()\n",
    "enemy.shape('square')\n",
    "enemy.speed(0)\n",
    "enemy.color('red')\n",
    "enemy.pu()\n",
    "enemy.goto(0,0)\n",
    "enemy.shapesize(stretch_wid=4, stretch_len=4)"
   ]
  },
  {
   "cell_type": "code",
   "execution_count": 79,
   "metadata": {},
   "outputs": [],
   "source": [
    "def paddle_right():\n",
    "    x = enemy.xcor()        # Get the x position of paddle\n",
    "    if x < 340:\n",
    "        enemy.setx(x+20)    # increment the x position by 20\n",
    "\n",
    "def paddle_left():\n",
    "    x = enemy.xcor()        # Get the x position of paddle\n",
    "    if x > -340:\n",
    "        enemy.setx(x-20)    # decrement the x position by 20\n",
    "\n",
    "# Keyboard Control\n",
    "win.onkey(paddle_right, 'Right')   # call paddle_right on right arrow key\n",
    "win.onkey(paddle_left, 'Left')     # call paddle_left on right arrow key\n",
    "win.listen()\n",
    "win.mainloop()\n"
   ]
  },
  {
   "cell_type": "code",
   "execution_count": 80,
   "metadata": {},
   "outputs": [
    {
     "ename": "SyntaxError",
     "evalue": "invalid syntax (<ipython-input-80-18c78125b144>, line 10)",
     "output_type": "error",
     "traceback": [
      "\u001b[0;36m  File \u001b[0;32m\"<ipython-input-80-18c78125b144>\"\u001b[0;36m, line \u001b[0;32m10\u001b[0m\n\u001b[0;31m    if self.enemy.xcor() > 350:    # If ball touch the right wall\u001b[0m\n\u001b[0m                              ^\u001b[0m\n\u001b[0;31mSyntaxError\u001b[0m\u001b[0;31m:\u001b[0m invalid syntax\n"
     ]
    }
   ],
   "source": [
    "enemy.dx = 3\n",
    "enemy.dy = -3\n",
    "\n",
    "while True:\n",
    "    win.update()\n",
    "    enemy.setx(enemy.xcor() + enemy.dx)\n",
    "    enemy.sety(enemy.ycor() + enemy.dy\n",
    "               \n",
    "    # Ball-Walls collision   \n",
    "    if self.enemy.xcor() > 350:    # If ball touch the right wall\n",
    "        self.enemy.setx(350)\n",
    "        self.enemy.dx *= -1        # Reverse the x-axis velocity\n",
    "\n",
    "    if self.enemy.xcor() < -350:   # If ball touch the left wall\n",
    "        self.enemy.setx(-350)\n",
    "        self.enemy.dx *= -1        # Reverse the x-axis velocity\n",
    "\n",
    "    if self.enemy.ycor() > 350:    # If ball touch the upper wall\n",
    "        self.enemy.sety(350)\n",
    "        self.enemy.dy *= -1        # Reverse the y-axis velocity\n",
    "\n",
    "    if self.enemy.ycor() > -350:    # If ball touch the lower wall\n",
    "        self.enemy.sety(-350)\n",
    "        self.enemy.dy *= -1        # Reverse the y-axis velocity\n",
    "\n"
   ]
  },
  {
   "cell_type": "code",
   "execution_count": null,
   "metadata": {},
   "outputs": [],
   "source": []
  }
 ],
 "metadata": {
  "kernelspec": {
   "display_name": "Python 3",
   "language": "python",
   "name": "python3"
  },
  "language_info": {
   "codemirror_mode": {
    "name": "ipython",
    "version": 3
   },
   "file_extension": ".py",
   "mimetype": "text/x-python",
   "name": "python",
   "nbconvert_exporter": "python",
   "pygments_lexer": "ipython3",
   "version": "3.8.3"
  }
 },
 "nbformat": 4,
 "nbformat_minor": 4
}
